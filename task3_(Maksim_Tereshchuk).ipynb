{
  "nbformat": 4,
  "nbformat_minor": 0,
  "metadata": {
    "coursera": {
      "course_slug": "neural-networks-deep-learning",
      "graded_item_id": "XaIWT",
      "launcher_item_id": "zAgPl"
    },
    "kernelspec": {
      "display_name": "Python 3",
      "language": "python",
      "name": "python3"
    },
    "language_info": {
      "codemirror_mode": {
        "name": "ipython",
        "version": 3
      },
      "file_extension": ".py",
      "mimetype": "text/x-python",
      "name": "python",
      "nbconvert_exporter": "python",
      "pygments_lexer": "ipython3",
      "version": "3.7.0"
    },
    "colab": {
      "name": "task3 (Maksim Tereshchuk).ipynb",
      "provenance": [],
      "collapsed_sections": [],
      "toc_visible": true,
      "include_colab_link": true
    }
  },
  "cells": [
    {
      "cell_type": "markdown",
      "metadata": {
        "id": "view-in-github",
        "colab_type": "text"
      },
      "source": [
        "<a href=\"https://colab.research.google.com/github/mtereshchuk/sentiment-analysis/blob/master/task3_(Maksim_Tereshchuk).ipynb\" target=\"_parent\"><img src=\"https://colab.research.google.com/assets/colab-badge.svg\" alt=\"Open In Colab\"/></a>"
      ]
    },
    {
      "cell_type": "markdown",
      "metadata": {
        "id": "JRl66UzjYVlq"
      },
      "source": [
        "# Logistic Regression as a Neural Network \n",
        "(partly following deeplearning.ai lab)\n",
        "\n",
        "    - Initializing parameters\n",
        "    - Calculating the cost function and its gradient\n",
        "    - Using an optimization algorithm (gradient descent) \n"
      ]
    },
    {
      "cell_type": "code",
      "metadata": {
        "colab": {
          "base_uri": "https://localhost:8080/"
        },
        "id": "4_lABX-teUkQ",
        "outputId": "253c8db7-fff2-4297-9f1f-5b18b594ee34"
      },
      "source": [
        "from google.colab import drive\n",
        "drive.mount('/content/drive/')"
      ],
      "execution_count": 1,
      "outputs": [
        {
          "output_type": "stream",
          "text": [
            "Drive already mounted at /content/drive/; to attempt to forcibly remount, call drive.mount(\"/content/drive/\", force_remount=True).\n"
          ],
          "name": "stdout"
        }
      ]
    },
    {
      "cell_type": "code",
      "metadata": {
        "id": "MlSzJZcyYVlv"
      },
      "source": [
        "import numpy as np\n",
        "import matplotlib.pyplot as plt\n",
        "import scipy\n",
        "from random import randrange\n",
        "%matplotlib inline"
      ],
      "execution_count": 2,
      "outputs": []
    },
    {
      "cell_type": "markdown",
      "metadata": {
        "id": "BixMxtmYYVlw"
      },
      "source": [
        "## General Architecture of the algorithm ##\n",
        "\n",
        "\n",
        "Build a Logistic Regression, using a Neural Network mindset.\n",
        "\n",
        "**Logistic Regression is actually a very simple Neural Network!**\n",
        "\n",
        "\n",
        "**Mathematical expression of the algorithm**:\n",
        "\n",
        "For one example $x^{(i)}$:\n",
        "$$z^{(i)} = w^T x^{(i)} + b \\tag{1}$$\n",
        "$$\\hat{y}^{(i)} = a^{(i)} = sigmoid(z^{(i)})\\tag{2}$$ \n",
        "$$ \\mathcal{L}(a^{(i)}, y^{(i)}) =  - y^{(i)}  \\log(a^{(i)}) - (1-y^{(i)} )  \\log(1-a^{(i)})\\tag{3}$$\n",
        "\n",
        "The cost is then computed by summing over all training examples:\n",
        "$$ J = \\frac{1}{m} \\sum_{i=1}^m \\mathcal{L}(a^{(i)}, y^{(i)})$$\n",
        "\n",
        "**Key steps**:\n",
        "    - Initialize the parameters of the model\n",
        "    - Learn the parameters for the model by minimizing the cost  \n",
        "    - Use the learned parameters to make predictions (on the test set)\n",
        "    - Analyse the results and conclude"
      ]
    },
    {
      "cell_type": "markdown",
      "metadata": {
        "id": "1rFmqFwQYVlw"
      },
      "source": [
        "## Parts of our algorithm ## \n",
        "\n",
        "The main steps for building a Neural Network are:\n",
        "1. Define the model structure (such as number of input features, number of layers, number of neurons in the layer etc.) \n",
        "2. Initialize the model's parameters\n",
        "3. Loop:\n",
        "    - Calculate current loss (forward propagation)\n",
        "    - Calculate current gradient (backward propagation)\n",
        "    - Update parameters (gradient descent)\n",
        "\n",
        "Build 1-3 separately and integrate them into one function we call `model()`.\n",
        "\n",
        "### Sigmoid\n",
        "\n",
        "$sigmoid( w^T x + b) = \\frac{1}{1 + e^{-(w^T x + b)}}$ "
      ]
    },
    {
      "cell_type": "code",
      "metadata": {
        "id": "q16NvSTkYVlx"
      },
      "source": [
        "# sigmoid\n",
        "\n",
        "def sigmoid(z):\n",
        "    \"\"\"\n",
        "    Compute the sigmoid of z\n",
        "\n",
        "    Arguments:\n",
        "    z -- A scalar or numpy array of any size.\n",
        "\n",
        "    Return:\n",
        "    s -- sigmoid(z)\n",
        "    \"\"\"\n",
        "    s = 1./(1.+np.exp(-z))\n",
        "    \n",
        "    return s"
      ],
      "execution_count": 3,
      "outputs": []
    },
    {
      "cell_type": "code",
      "metadata": {
        "scrolled": true,
        "id": "9It4n0EvYVlx",
        "colab": {
          "base_uri": "https://localhost:8080/"
        },
        "outputId": "54905dd4-abd7-4885-a008-4e6eaef49eef"
      },
      "source": [
        "print (\"sigmoid([0, 2, 10, -10]) = \" + str(sigmoid(np.array([0., 2., -2., 100.]))))"
      ],
      "execution_count": 4,
      "outputs": [
        {
          "output_type": "stream",
          "text": [
            "sigmoid([0, 2, 10, -10]) = [0.5        0.88079708 0.11920292 1.        ]\n"
          ],
          "name": "stdout"
        }
      ]
    },
    {
      "cell_type": "markdown",
      "metadata": {
        "id": "bpd0wqL7YVlx"
      },
      "source": [
        "### Initializing parameters\n",
        "\n"
      ]
    },
    {
      "cell_type": "code",
      "metadata": {
        "id": "nC_xYzTEYVly"
      },
      "source": [
        "# initialize_with_zeros\n",
        "\n",
        "def initialize_with_zeros(dim):\n",
        "    \"\"\"\n",
        "    This function creates a vector of zeros of shape (dim, 1) for w and initializes b to 0.\n",
        "    \n",
        "    Argument:\n",
        "    dim -- size of the w vector we want (or number of parameters in this case)\n",
        "    \n",
        "    Returns:\n",
        "    w -- initialized vector of shape (dim, 1)\n",
        "    b -- initialized scalar (corresponds to the bias)\n",
        "    \"\"\"\n",
        "    w = np.zeros((dim,1))\n",
        "    b = 0.\n",
        "    \n",
        "    return w, b"
      ],
      "execution_count": 5,
      "outputs": []
    },
    {
      "cell_type": "code",
      "metadata": {
        "id": "tEQyfQAlYVly",
        "colab": {
          "base_uri": "https://localhost:8080/"
        },
        "outputId": "236b94df-8da5-4695-dedc-35496419b5d1"
      },
      "source": [
        "dim = 3\n",
        "w, b = initialize_with_zeros(dim)\n",
        "print (\"w = \" + str(w))\n",
        "print (\"b = \" + str(b))"
      ],
      "execution_count": 6,
      "outputs": [
        {
          "output_type": "stream",
          "text": [
            "w = [[0.]\n",
            " [0.]\n",
            " [0.]]\n",
            "b = 0.0\n"
          ],
          "name": "stdout"
        }
      ]
    },
    {
      "cell_type": "markdown",
      "metadata": {
        "id": "K8qHMDabYVly"
      },
      "source": [
        "### Forward and Backward propagation\n",
        "\n",
        "Implement a function `propagate()` that computes the cost function and its gradient.\n",
        "\n",
        "Forward Propagation:\n",
        "- You get X\n",
        "- You compute $A = \\sigma(w^T X + b) = (a^{(1)}, a^{(2)}, ..., a^{(m-1)}, a^{(m)})$\n",
        "- You calculate the cost function: $J = -\\frac{1}{m}\\sum_{i=1}^{m}y^{(i)}\\log(a^{(i)})+(1-y^{(i)})\\log(1-a^{(i)})$\n",
        "\n",
        "Here are the two formulas we should use: \n",
        "\n",
        "$$ \\frac{\\partial J}{\\partial w} = \\frac{1}{m}X(A-Y)^T$$\n",
        "$$ \\frac{\\partial J}{\\partial b} = \\frac{1}{m} \\sum_{i=1}^m (a^{(i)}-y^{(i)})$$"
      ]
    },
    {
      "cell_type": "code",
      "metadata": {
        "id": "RzhXWVi1YVlz"
      },
      "source": [
        "import math\n",
        "\n",
        "# propagate\n",
        "\n",
        "def propagate(w, b, X, Y):\n",
        "    \"\"\"\n",
        "    Implement the cost function and its gradient for the propagation explained above\n",
        "\n",
        "    Arguments:\n",
        "    w -- weights, a numpy array of size which equals the number of features\n",
        "    b -- bias, a scalar\n",
        "    X -- data \n",
        "    Y -- true \"label\" vector (containing 0 and 1) of size (1, number of examples)\n",
        "\n",
        "    Return:\n",
        "    cost -- negative log-likelihood cost for logistic regression\n",
        "    dw -- gradient of the loss with respect to w, thus same shape as w\n",
        "    db -- gradient of the loss with respect to b, thus same shape as b\n",
        "    \n",
        "    \"\"\"\n",
        "    m = X.shape[1]\n",
        "    #print('number of objects = ',len(X))\n",
        "    \n",
        "    # FORWARD PROPAGATION (FROM X TO COST)\n",
        "    A = sigmoid(np.dot(w.T,X)+b )                                 # compute activation\n",
        "    cost = -(1./m)*np.sum(Y*np.log(A)+(1-Y)*np.log(1-A),axis=1)   # compute cost\n",
        "    \n",
        "    # BACKWARD PROPAGATION (TO FIND GRAD)\n",
        "    dw = (1./m)*np.dot(X,(A-Y).T)\n",
        "    db = (1./m)*np.sum(A-Y,axis=1)\n",
        "\n",
        "    grads = {\"dw\": dw,\n",
        "             \"db\": db}\n",
        "    \n",
        "    return grads, cost"
      ],
      "execution_count": 7,
      "outputs": []
    },
    {
      "cell_type": "code",
      "metadata": {
        "id": "jofXU2o7YVlz",
        "colab": {
          "base_uri": "https://localhost:8080/"
        },
        "outputId": "2f318b40-2b60-4c68-c139-eda12cec9cbe"
      },
      "source": [
        "w, b, X, Y = np.array([[1.],[-1.]]), 4., np.array([[1.,5.,-1.],[10.,0.,-3.2]]), np.array([[0,1,1]])\n",
        "grads, cost = propagate(w, b, X, Y)\n",
        "print (\"dw = \" + str(grads[\"dw\"]))\n",
        "print (\"db = \" + str(grads[\"db\"]))\n",
        "print (\"cost = \" + str(cost))"
      ],
      "execution_count": 8,
      "outputs": [
        {
          "output_type": "stream",
          "text": [
            "dw = [[0.0027004 ]\n",
            " [0.02446984]]\n",
            "db = [0.00151471]\n",
            "cost = [0.00295537]\n"
          ],
          "name": "stdout"
        }
      ]
    },
    {
      "cell_type": "markdown",
      "metadata": {
        "id": "5Rjc-2wuYVlz"
      },
      "source": [
        "### Optimization\n",
        "- We have initialized the parameters.\n",
        "- We are able to compute a cost function and its gradient.\n",
        "- Now, we have to update the parameters using gradient descent.\n",
        "\n",
        "For a parameter $\\theta$, the update rule is $ \\theta = \\theta - \\alpha \\text{ } d\\theta$, where $\\alpha$ is the learning rate."
      ]
    },
    {
      "cell_type": "code",
      "metadata": {
        "id": "zI5mo-6fYVl0"
      },
      "source": [
        "# optimize\n",
        "\n",
        "def optimize(w, b, X, Y, num_iterations, learning_rate, stochastic = False, print_cost = False):\n",
        "    \"\"\"\n",
        "    This function optimizes w and b by running a gradient descent algorithm\n",
        "    \n",
        "    Arguments:\n",
        "    w -- weights, a numpy array \n",
        "    b -- bias, a scalar\n",
        "    X -- data \n",
        "    Y -- true \"label\" vector (containing 0 and 1), of shape (1, number of examples)\n",
        "    num_iterations -- number of iterations of the optimization loop\n",
        "    learning_rate -- learning rate of the gradient descent update rule\n",
        "    print_cost -- True to print the loss every 100 steps\n",
        "    \n",
        "    Returns:\n",
        "    params -- dictionary containing the weights w and bias b\n",
        "    grads -- dictionary containing the gradients of the weights and bias with respect to the cost function\n",
        "    costs -- list of all the costs computed during the optimization, this will be used to plot the learning curve.\n",
        "    \n",
        "    \"\"\"\n",
        "    \n",
        "    costs = []\n",
        "    \n",
        "    for i in range(num_iterations):\n",
        "        \n",
        "        if stochastic:\n",
        "            j = randrange(X.shape[1])\n",
        "            cur_X = np.array([X[:,j]]).T\n",
        "            cur_Y = np.array([Y[j]])\n",
        "        else:\n",
        "            cur_X = X\n",
        "            cur_Y = Y\n",
        "\n",
        "        # Cost and gradient calculation \n",
        "        grads, cost = propagate(w,b,cur_X,cur_Y)\n",
        "\n",
        "        # Retrieve derivatives from grads\n",
        "        dw = grads[\"dw\"]\n",
        "        db = grads[\"db\"]\n",
        "        \n",
        "        # update rule\n",
        "        w -=learning_rate*dw\n",
        "        b -=learning_rate*db\n",
        "        \n",
        "        # Record the costs\n",
        "        if i % 100 == 0:\n",
        "            costs.append(cost)\n",
        "        \n",
        "        # Print the cost every 100 training iterations\n",
        "        if print_cost and i % 100 == 0:\n",
        "            print (\"Cost after iteration %i: %f\" %(i, cost))\n",
        "    \n",
        "    params = {\"w\": w,\n",
        "              \"b\": b}\n",
        "    \n",
        "    grads = {\"dw\": dw,\n",
        "             \"db\": db}\n",
        "    \n",
        "    return params, grads, costs"
      ],
      "execution_count": 9,
      "outputs": []
    },
    {
      "cell_type": "code",
      "metadata": {
        "id": "A_Cw0F1mYVl0",
        "colab": {
          "base_uri": "https://localhost:8080/"
        },
        "outputId": "91a7c81a-dbcb-49a2-ebc6-f7ad2ae754da"
      },
      "source": [
        "params, grads, costs = optimize(w, b, X, Y, num_iterations= 1000, learning_rate = 0.005, print_cost = True)\n",
        "\n",
        "print (\"w = \" + str(params[\"w\"]))\n",
        "print (\"b = \" + str(params[\"b\"]))\n",
        "print (\"dw = \" + str(grads[\"dw\"]))\n",
        "print (\"db = \" + str(grads[\"db\"]))"
      ],
      "execution_count": 10,
      "outputs": [
        {
          "output_type": "stream",
          "text": [
            "Cost after iteration 0: 0.002955\n",
            "Cost after iteration 100: 0.002683\n",
            "Cost after iteration 200: 0.002461\n",
            "Cost after iteration 300: 0.002278\n",
            "Cost after iteration 400: 0.002124\n",
            "Cost after iteration 500: 0.001991\n",
            "Cost after iteration 600: 0.001877\n",
            "Cost after iteration 700: 0.001777\n",
            "Cost after iteration 800: 0.001689\n",
            "Cost after iteration 900: 0.001611\n",
            "w = [[ 0.99092423]\n",
            " [-1.08149946]]\n",
            "b = [3.99591156]\n",
            "dw = [[0.00128065]\n",
            " [0.01144573]]\n",
            "db = [0.00041775]\n"
          ],
          "name": "stdout"
        }
      ]
    },
    {
      "cell_type": "markdown",
      "metadata": {
        "id": "WveKLLR6YVl1"
      },
      "source": [
        "Implement the `predict()` function. There are two steps to compute predictions:\n",
        "\n",
        "1. Calculate $\\hat{Y} = A = \\sigma(w^T X + b)$\n",
        "\n",
        "2. Convert the entries of A into 0 (if activation <= 0.5) or 1 (if activation > 0.5), store the predictions in a vector `Y_prediction`. "
      ]
    },
    {
      "cell_type": "code",
      "metadata": {
        "id": "Q6p8pd8pYVl1"
      },
      "source": [
        "# predict\n",
        "\n",
        "def predict(w, b, X):\n",
        "    '''\n",
        "    Predict whether the label is 0 or 1 using learned logistic regression parameters (w, b)\n",
        "    \n",
        "    Arguments:\n",
        "    w -- weights, a numpy array \n",
        "    b -- bias, a scalar\n",
        "    X -- data \n",
        "    \n",
        "    Returns:\n",
        "    Y_prediction -- a numpy array (vector) containing all predictions (0/1) for the examples in X\n",
        "    '''\n",
        "    \n",
        "    m = X.shape[1]\n",
        "    Y_prediction = np.zeros((1,m))\n",
        "    w = w.reshape(X.shape[0], 1)\n",
        "    \n",
        "    # Compute vector \"A\" predicting the probabilities \n",
        "    A = sigmoid(np.dot(w.T,X)+b)\n",
        "    \n",
        "    for i in range(A.shape[1]):\n",
        "        \n",
        "        # Convert probabilities A[0,i] to actual predictions p[0,i]\n",
        "        if (A[0,i]<=0.5):\n",
        "            Y_prediction[0][i]=0\n",
        "        else:\n",
        "            Y_prediction[0][i]=1\n",
        "    \n",
        "    return Y_prediction"
      ],
      "execution_count": 11,
      "outputs": []
    },
    {
      "cell_type": "code",
      "metadata": {
        "id": "IeFbe51nYVl2",
        "colab": {
          "base_uri": "https://localhost:8080/"
        },
        "outputId": "dec461f9-a7f3-4d65-899b-07f00741b51d"
      },
      "source": [
        "w = np.array([[0.1124579],[0.23106775]])\n",
        "b = -0.3\n",
        "X = np.array([[1.,-1.1,-3.2],[1.2,2.,0.1]])\n",
        "print (\"predictions = \" + str(predict(w, b, X)))"
      ],
      "execution_count": 12,
      "outputs": [
        {
          "output_type": "stream",
          "text": [
            "predictions = [[1. 1. 0.]]\n"
          ],
          "name": "stdout"
        }
      ]
    },
    {
      "cell_type": "markdown",
      "metadata": {
        "collapsed": true,
        "id": "IzJOsYM2YVl2"
      },
      "source": [
        "\n",
        "Already have:\n",
        "- Initialize (w,b)\n",
        "- Optimize the loss iteratively to learn parameters (w,b):\n",
        "    - computing the cost and its gradient \n",
        "    - updating the parameters using gradient descent\n",
        "- Use the learned (w,b) to predict the labels for a given set of examples"
      ]
    },
    {
      "cell_type": "markdown",
      "metadata": {
        "id": "gIHsdqPgYVl2"
      },
      "source": [
        "## Merge it all into a model ##\n",
        "\n",
        "    - Y_prediction_test for the predictions on the test set\n",
        "    - Y_prediction_train for the predictions on the train set\n",
        "    - w, costs, grads for the outputs of optimize()"
      ]
    },
    {
      "cell_type": "code",
      "metadata": {
        "id": "TMVbePtZYVl2"
      },
      "source": [
        "# model\n",
        "\n",
        "def model(X_train, Y_train, X_test, Y_test, num_iterations = 2000, learning_rate = 0.5, stochastic = False, print_cost = False):\n",
        "    \"\"\"\n",
        "    Builds the logistic regression model by calling the function we've implemented previously\n",
        "    \n",
        "    Arguments:\n",
        "    X_train -- training set represented by a numpy array \n",
        "    Y_train -- training labels represented by a numpy array (vector) of shape (1, m_train)\n",
        "    X_test -- test set represented by a numpy array \n",
        "    Y_test -- test labels represented by a numpy array (vector) of shape (1, m_test)\n",
        "    num_iterations -- hyperparameter representing the number of iterations to optimize the parameters\n",
        "    learning_rate -- hyperparameter representing the learning rate used in the update rule of optimize()\n",
        "    print_cost -- Set to true to print the cost every 100 iterations\n",
        "    \n",
        "    Returns:\n",
        "    d -- dictionary containing information about the model.\n",
        "    \"\"\"\n",
        "    \n",
        "    # initialize parameters with zeros \n",
        "    w, b = initialize_with_zeros(X_train.shape[0])\n",
        "\n",
        "    # Gradient descent\n",
        "    parameters, grads, costs = optimize(w, b, X_train, Y_train, num_iterations, learning_rate, stochastic, print_cost)\n",
        "    \n",
        "    # Retrieve parameters w and b from dictionary \"parameters\"\n",
        "    w = parameters[\"w\"]\n",
        "    b = parameters[\"b\"]\n",
        "    \n",
        "    # Predict test/train set examples\n",
        "    Y_prediction_test = predict(w, b, X_test)\n",
        "    Y_prediction_train = predict(w, b, X_train)\n",
        "\n",
        "    # Print train/test Errors\n",
        "    train_accuracy = 100 - np.mean(np.abs(Y_prediction_train - Y_train)) * 100\n",
        "    test_accuracy = 100 - np.mean(np.abs(Y_prediction_test - Y_test)) * 100\n",
        "    print(\"train accuracy: {} %\".format(train_accuracy))\n",
        "    print(\"test accuracy: {} %\".format(test_accuracy))\n",
        "\n",
        "    d = {\"costs\": costs,\n",
        "         \"Y_prediction_test\": Y_prediction_test, \n",
        "         \"Y_prediction_train\" : Y_prediction_train, \n",
        "         \"w\" : w, \n",
        "         \"b\" : b,\n",
        "         \"learning_rate\" : learning_rate,\n",
        "         \"num_iterations\": num_iterations,\n",
        "         \"train_accuracy\": train_accuracy,\n",
        "         \"test_accuracy\": test_accuracy}\n",
        "    \n",
        "    return d"
      ],
      "execution_count": 13,
      "outputs": []
    },
    {
      "cell_type": "markdown",
      "metadata": {
        "id": "SMOjXzwNYVl3"
      },
      "source": [
        "Run the following cell to train your model."
      ]
    },
    {
      "cell_type": "markdown",
      "metadata": {
        "id": "JyNljcEb3N9T"
      },
      "source": [
        "### 1. Apply the logistic regression method using the functions in the notebook \"Logistic Regression as a Neural Network – BP alg.ipynb\" to predict the biological response of a molecule. Use 75% of the dataset to train the model, and the rest of the data to estimate its accuracy."
      ]
    },
    {
      "cell_type": "code",
      "metadata": {
        "id": "4NWUYiqoYVl3",
        "colab": {
          "base_uri": "https://localhost:8080/"
        },
        "outputId": "3f1fcc3c-27a9-4a41-c3c5-3bcfd16ed775"
      },
      "source": [
        "import pandas as pd \n",
        "from sklearn.model_selection import train_test_split\n",
        "\n",
        "data = pd.read_csv('/content/drive/My Drive/data/bioresponse.csv')\n",
        "\n",
        "X=data.drop('Activity',axis=1).to_numpy()\n",
        "y=data['Activity'].to_numpy()\n",
        "\n",
        "X_train, X_test, y_train, y_test = train_test_split(X, y, test_size = 0.25, random_state = 42)\n",
        "\n",
        "X_train, X_test = X_train.T, X_test.T\n",
        "y_train, y_test = y_train.T, y_test.T\n",
        " \n",
        "gdm = model(X_train, y_train, X_test, y_test, num_iterations = 2000, learning_rate = 0.001, print_cost = True)"
      ],
      "execution_count": 14,
      "outputs": [
        {
          "output_type": "stream",
          "text": [
            "Cost after iteration 0: 0.693147\n",
            "Cost after iteration 100: 0.681095\n",
            "Cost after iteration 200: 0.673994\n",
            "Cost after iteration 300: 0.667662\n",
            "Cost after iteration 400: 0.661794\n",
            "Cost after iteration 500: 0.656314\n",
            "Cost after iteration 600: 0.651172\n",
            "Cost after iteration 700: 0.646329\n",
            "Cost after iteration 800: 0.641754\n",
            "Cost after iteration 900: 0.637419\n",
            "Cost after iteration 1000: 0.633303\n",
            "Cost after iteration 1100: 0.629386\n",
            "Cost after iteration 1200: 0.625651\n",
            "Cost after iteration 1300: 0.622084\n",
            "Cost after iteration 1400: 0.618672\n",
            "Cost after iteration 1500: 0.615404\n",
            "Cost after iteration 1600: 0.612268\n",
            "Cost after iteration 1700: 0.609257\n",
            "Cost after iteration 1800: 0.606360\n",
            "Cost after iteration 1900: 0.603572\n",
            "train accuracy: 72.52044081052257 %\n",
            "test accuracy: 72.70788912579957 %\n"
          ],
          "name": "stdout"
        }
      ]
    },
    {
      "cell_type": "markdown",
      "metadata": {
        "id": "Tq5RKKda3oWp"
      },
      "source": [
        "### 2. Modify optimize() function to implement the stochastic gradient descent (SGD) method. Apply it to solve the problem from p.1."
      ]
    },
    {
      "cell_type": "code",
      "metadata": {
        "colab": {
          "base_uri": "https://localhost:8080/"
        },
        "id": "HdZKFlRBuDJo",
        "outputId": "a0edeba9-7cab-4d78-95d5-c18c853a4600"
      },
      "source": [
        "sgdm = model(X_train, y_train, X_test, y_test, num_iterations = 2000, learning_rate = 0.001, stochastic = True, print_cost = True)"
      ],
      "execution_count": 15,
      "outputs": [
        {
          "output_type": "stream",
          "text": [
            "Cost after iteration 0: 0.693147\n",
            "Cost after iteration 100: 0.650437\n",
            "Cost after iteration 200: 0.743042\n",
            "Cost after iteration 300: 0.588313\n",
            "Cost after iteration 400: 0.661042\n",
            "Cost after iteration 500: 0.832211\n",
            "Cost after iteration 600: 0.612608\n",
            "Cost after iteration 700: 0.518153\n",
            "Cost after iteration 800: 0.466032\n",
            "Cost after iteration 900: 0.414591\n",
            "Cost after iteration 1000: 0.822311\n",
            "Cost after iteration 1100: 0.810937\n",
            "Cost after iteration 1200: 0.509011\n",
            "Cost after iteration 1300: 0.812447\n",
            "Cost after iteration 1400: 0.614753\n",
            "Cost after iteration 1500: 0.689043\n",
            "Cost after iteration 1600: 0.420769\n",
            "Cost after iteration 1700: 0.701326\n",
            "Cost after iteration 1800: 0.577540\n",
            "Cost after iteration 1900: 0.499944\n",
            "train accuracy: 71.5606114468539 %\n",
            "test accuracy: 69.9360341151386 %\n"
          ],
          "name": "stdout"
        }
      ]
    },
    {
      "cell_type": "markdown",
      "metadata": {
        "id": "8hCgYipZ328z"
      },
      "source": [
        "### 3. For two modifications of gradient descent (pp. 1 and 2), plot the learning curves (dependence of the value of the loss function on the iteration number), apply models with different values of the learning rate (at least 5 different learning rates)."
      ]
    },
    {
      "cell_type": "code",
      "metadata": {
        "colab": {
          "base_uri": "https://localhost:8080/",
          "height": 1000
        },
        "id": "yyizotFB3_iM",
        "outputId": "1c0f3281-f68c-41de-fb7e-58a839f33f9a"
      },
      "source": [
        "NUM_ITERATIONS = 2000\n",
        "LEARNING_RATES = [0.1, 0.01, 0.001, 0.0001, 0.00001]\n",
        "X_RANGE = list(filter(lambda a: a % 100 == 0, range(NUM_ITERATIONS)))\n",
        "\n",
        "for learning_rate in LEARNING_RATES:\n",
        "    print('GD')\n",
        "    cur_gdm = model(X_train, y_train, X_test, y_test, num_iterations = NUM_ITERATIONS, learning_rate = learning_rate, stochastic = False)\n",
        "\n",
        "    print('SGD')\n",
        "    cur_sgdm = model(X_train, y_train, X_test, y_test, num_iterations = NUM_ITERATIONS, learning_rate = learning_rate, stochastic = True)\n",
        "\n",
        "    plt.plot(X_RANGE, cur_gdm['costs'], 'r')\n",
        "    plt.plot(X_RANGE, cur_sgdm['costs'], 'b')\n",
        "    plt.xlabel('Iteration')\n",
        "    plt.ylabel('Cost')\n",
        "    plt.show()"
      ],
      "execution_count": 16,
      "outputs": [
        {
          "output_type": "stream",
          "text": [
            "GD\n",
            "train accuracy: 83.32740846071809 %\n",
            "test accuracy: 76.43923240938166 %\n",
            "SGD\n",
            "train accuracy: 73.65801635264842 %\n",
            "test accuracy: 73.45415778251599 %\n"
          ],
          "name": "stdout"
        },
        {
          "output_type": "stream",
          "text": [
            "/usr/local/lib/python3.7/dist-packages/ipykernel_launcher.py:26: RuntimeWarning: divide by zero encountered in log\n",
            "/usr/local/lib/python3.7/dist-packages/ipykernel_launcher.py:26: RuntimeWarning: invalid value encountered in multiply\n"
          ],
          "name": "stderr"
        },
        {
          "output_type": "display_data",
          "data": {
            "image/png": "[encoded data removed]",
            "text/plain": [
              "<Figure size 432x288 with 1 Axes>"
            ]
          },
          "metadata": {
            "tags": [],
            "needs_background": "light"
          }
        },
        {
          "output_type": "stream",
          "text": [
            "GD\n",
            "train accuracy: 78.35051546391753 %\n",
            "test accuracy: 75.5863539445629 %\n",
            "SGD\n",
            "train accuracy: 73.76466405972272 %\n",
            "test accuracy: 71.42857142857143 %\n"
          ],
          "name": "stdout"
        },
        {
          "output_type": "display_data",
          "data": {
            "image/png": "[encoded data removed]",
            "text/plain": [
              "<Figure size 432x288 with 1 Axes>"
            ]
          },
          "metadata": {
            "tags": [],
            "needs_background": "light"
          }
        },
        {
          "output_type": "stream",
          "text": [
            "GD\n",
            "train accuracy: 72.52044081052257 %\n",
            "test accuracy: 72.70788912579957 %\n",
            "SGD\n",
            "train accuracy: 69.4987557767508 %\n",
            "test accuracy: 67.48400852878464 %\n"
          ],
          "name": "stdout"
        },
        {
          "output_type": "display_data",
          "data": {
            "image/png": "[encoded data removed]",
            "text/plain": [
              "<Figure size 432x288 with 1 Axes>"
            ]
          },
          "metadata": {
            "tags": [],
            "needs_background": "light"
          }
        },
        {
          "output_type": "stream",
          "text": [
            "GD\n",
            "train accuracy: 57.625311055812304 %\n",
            "test accuracy: 60.66098081023454 %\n",
            "SGD\n",
            "train accuracy: 56.3099893352293 %\n",
            "test accuracy: 60.44776119402985 %\n"
          ],
          "name": "stdout"
        },
        {
          "output_type": "display_data",
          "data": {
            "image/png": "[encoded data removed]",
            "text/plain": [
              "<Figure size 432x288 with 1 Axes>"
            ]
          },
          "metadata": {
            "tags": [],
            "needs_background": "light"
          }
        },
        {
          "output_type": "stream",
          "text": [
            "GD\n",
            "train accuracy: 53.288304301457515 %\n",
            "test accuracy: 57.0362473347548 %\n",
            "SGD\n",
            "train accuracy: 53.288304301457515 %\n",
            "test accuracy: 57.0362473347548 %\n"
          ],
          "name": "stdout"
        },
        {
          "output_type": "display_data",
          "data": {
            "image/png": "[encoded data removed]",
            "text/plain": [
              "<Figure size 432x288 with 1 Axes>"
            ]
          },
          "metadata": {
            "tags": [],
            "needs_background": "light"
          }
        }
      ]
    },
    {
      "cell_type": "markdown",
      "metadata": {
        "id": "Ea8RwMJb8Alh"
      },
      "source": [
        "### How does it affect the accuracy of the model? \n",
        "**Answer: the lower the learning rate, the worse the accuracy (with a fixed number of iterations 2000)**"
      ]
    },
    {
      "cell_type": "markdown",
      "metadata": {
        "id": "zrdGgKhc8xoq"
      },
      "source": [
        "### 4. Implement the Adam optimization method using the numpy library and compare the accuracy of the model fitted with it with the models trained by the classic GD and SGD algorithms."
      ]
    },
    {
      "cell_type": "code",
      "metadata": {
        "colab": {
          "base_uri": "https://localhost:8080/",
          "height": 520
        },
        "id": "kEJLubVcF9lq",
        "outputId": "99bbc046-6b28-4ec9-e244-cc2b800fec30"
      },
      "source": [
        "from math import isnan\n",
        "\n",
        "def adam(w, b, X, Y, num_iterations, eta = 0.01, beta1 = 0.9, beta2 = 0.999, epsilon = 1e-8, print_cost = False):\n",
        "    \"\"\"\n",
        "    This function optimizes w and b by running an Adam algorithm\n",
        "    \n",
        "    Arguments:\n",
        "    w -- weights, a numpy array \n",
        "    b -- bias, a scalar\n",
        "    X -- data \n",
        "    Y -- true \"label\" vector (containing 0 and 1), of shape (1, number of examples)\n",
        "    num_iterations -- number of iterations of the optimization loop\n",
        "    print_cost -- True to print the loss every 100 steps\n",
        "    \n",
        "    Returns:\n",
        "    params -- dictionary containing the weights w and bias b\n",
        "    grads -- dictionary containing the gradients of the weights and bias with respect to the cost function\n",
        "    costs -- list of all the costs computed during the optimization, this will be used to plot the learning curve.\n",
        "    \n",
        "    \"\"\"\n",
        "    \n",
        "    costs = []\n",
        "\n",
        "    dim = X.shape[0]\n",
        "    m_w, m_b = initialize_with_zeros(dim)\n",
        "    v_w, v_b = initialize_with_zeros(dim)\n",
        "    for i in range(1, num_iterations + 1):        \n",
        "        # Cost and gradient calculation \n",
        "        grads, cost = propagate(w,b,X,Y)\n",
        "        if isnan(cost):\n",
        "            # print(np.mean(w))\n",
        "            # print(b)\n",
        "            break\n",
        "\n",
        "        # Retrieve derivatives from grads\n",
        "        dw = grads[\"dw\"]\n",
        "        db = grads[\"db\"]\n",
        "        \n",
        "        m_w = beta1*m_w + (1-beta1)*dw\n",
        "        m_b = beta1*m_b + (1-beta1)*db\n",
        "\n",
        "        v_w = beta2*v_w + (1-beta2)*(dw**2)        \n",
        "        v_b = beta2*v_b + (1-beta2)*(db**2)\n",
        "\n",
        "        m_w_hat = m_w/(1-beta1**i)\n",
        "        m_b_hat = m_b/(1-beta1**i)\n",
        "        v_w_hat = v_w/(1-beta2**i)\n",
        "        v_b_hat = v_b/(1-beta2**i)\n",
        "    \n",
        "        w -= eta*(m_w_hat/(np.sqrt(v_w_hat)+epsilon))\n",
        "        b -= eta*(m_b_hat/(np.sqrt(v_b_hat)+epsilon))\n",
        "        \n",
        "        # Record the costs\n",
        "        if i % 100 == 0:\n",
        "            costs.append(cost)\n",
        "        \n",
        "        # Print the cost every 100 training iterations\n",
        "        if print_cost and i % 100 == 0:\n",
        "            print (\"Cost after iteration %i: %f\" %(i, cost))\n",
        "\n",
        "    params = {\"w\": w,\n",
        "              \"b\": b}\n",
        "    \n",
        "    grads = {\"dw\": dw,\n",
        "             \"db\": db}\n",
        "    \n",
        "    return params, grads, costs\n",
        "\n",
        "def adam_model(X_train, Y_train, X_test, Y_test, num_iterations = 2000, print_cost = False):\n",
        "    \"\"\"\n",
        "    Builds the logistic regression model by calling the function we've implemented previously\n",
        "    \n",
        "    Arguments:\n",
        "    X_train -- training set represented by a numpy array \n",
        "    Y_train -- training labels represented by a numpy array (vector) of shape (1, m_train)\n",
        "    X_test -- test set represented by a numpy array \n",
        "    Y_test -- test labels represented by a numpy array (vector) of shape (1, m_test)\n",
        "    num_iterations -- hyperparameter representing the number of iterations to optimize the parameters\n",
        "    print_cost -- Set to true to print the cost every 100 iterations\n",
        "    \n",
        "    Returns:\n",
        "    d -- dictionary containing information about the model.\n",
        "    \"\"\"\n",
        "    \n",
        "    # initialize parameters with zeros \n",
        "    w, b = initialize_with_zeros(X_train.shape[0])\n",
        "\n",
        "    # Adam\n",
        "    parameters, grads, costs = adam(w, b, X_train, Y_train, num_iterations, print_cost = print_cost)\n",
        "    \n",
        "    # Retrieve parameters w and b from dictionary \"parameters\"\n",
        "    w = parameters[\"w\"]\n",
        "    b = parameters[\"b\"]\n",
        "    \n",
        "    # Predict test/train set examples\n",
        "    Y_prediction_test = predict(w, b, X_test)\n",
        "    Y_prediction_train = predict(w, b, X_train)\n",
        "\n",
        "    # Print train/test Errors\n",
        "    train_accuracy = 100 - np.mean(np.abs(Y_prediction_train - Y_train)) * 100\n",
        "    test_accuracy = 100 - np.mean(np.abs(Y_prediction_test - Y_test)) * 100\n",
        "    print(\"train accuracy: {} %\".format(train_accuracy))\n",
        "    print(\"test accuracy: {} %\".format(test_accuracy))\n",
        "\n",
        "    d = {\"costs\": costs,\n",
        "         \"Y_prediction_test\": Y_prediction_test, \n",
        "         \"Y_prediction_train\" : Y_prediction_train, \n",
        "         \"w\" : w, \n",
        "         \"b\" : b,\n",
        "         \"learning_rate\" : learning_rate,\n",
        "         \"num_iterations\": num_iterations,\n",
        "         \"train_accuracy\": train_accuracy,\n",
        "         \"test_accuracy\": test_accuracy}\n",
        "    \n",
        "    return d\n",
        "\n",
        "am = adam_model(X_train, y_train, X_test, y_test, num_iterations = 2000, print_cost = True)\n",
        "\n",
        "_, ax = plt.subplots()\n",
        "x = np.arange(3)\n",
        "plt.bar(x, [gdm['test_accuracy'], sgdm['test_accuracy'], am['test_accuracy']], color = ['r', 'g', 'b'])\n",
        "plt.xticks(x, ('GD', 'SGD', 'Adam'))\n",
        "plt.ylabel('Accuracy')\n",
        "plt.show()"
      ],
      "execution_count": 17,
      "outputs": [
        {
          "output_type": "stream",
          "text": [
            "Cost after iteration 100: 0.378003\n",
            "Cost after iteration 200: 0.326990\n",
            "Cost after iteration 300: 0.297579\n",
            "Cost after iteration 400: 0.276888\n",
            "Cost after iteration 500: 0.260973\n",
            "Cost after iteration 600: 0.248073\n",
            "Cost after iteration 700: 0.237271\n",
            "Cost after iteration 800: 0.228012\n",
            "Cost after iteration 900: 0.219930\n",
            "Cost after iteration 1000: 0.212771\n",
            "Cost after iteration 1100: 0.206355\n",
            "train accuracy: 93.10344827586206 %\n",
            "test accuracy: 74.73347547974413 %\n"
          ],
          "name": "stdout"
        },
        {
          "output_type": "stream",
          "text": [
            "/usr/local/lib/python3.7/dist-packages/ipykernel_launcher.py:26: RuntimeWarning: divide by zero encountered in log\n",
            "/usr/local/lib/python3.7/dist-packages/ipykernel_launcher.py:26: RuntimeWarning: invalid value encountered in multiply\n"
          ],
          "name": "stderr"
        },
        {
          "output_type": "display_data",
          "data": {
            "image/png": "[encoded data removed]",
            "text/plain": [
              "<Figure size 432x288 with 1 Axes>"
            ]
          },
          "metadata": {
            "tags": [],
            "needs_background": "light"
          }
        }
      ]
    },
    {
      "cell_type": "markdown",
      "metadata": {
        "id": "v42GrLJIYVl3"
      },
      "source": [
        "Bibliography:\n",
        "- http://www.wildml.com/2015/09/implementing-a-neural-network-from-scratch/\n"
      ]
    }
  ]
}