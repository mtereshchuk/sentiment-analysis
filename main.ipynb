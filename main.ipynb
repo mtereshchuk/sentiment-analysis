{
 "cells": [
  {
   "cell_type": "code",
   "execution_count": 1,
   "metadata": {},
   "outputs": [],
   "source": [
    "import pandas as pd\n",
    "import numpy as np\n",
    "from sklearn.feature_extraction import text\n",
    "from sklearn.pipeline import FeatureUnion, Pipeline\n",
    "from sklearn.metrics import classification_report\n",
    "from sklearn.svm import LinearSVC\n",
    "\n",
    "from tweet_cleaner import TweetCleaner"
   ]
  },
  {
   "cell_type": "code",
   "execution_count": 2,
   "metadata": {},
   "outputs": [],
   "source": [
    "TRAIN_PATH, TEST_PATH = 'data/Train.csv', 'data/Test.csv'"
   ]
  },
  {
   "cell_type": "code",
   "execution_count": 3,
   "metadata": {},
   "outputs": [],
   "source": [
    "cleaner = TweetCleaner()\n",
    "\n",
    "train_df = pd.read_csv(TRAIN_PATH)\n",
    "train_df = train_df[train_df['Sentiment'] != 'irrelevant']\n",
    "train_df['cleaned'] = train_df['TweetText'].apply(cleaner.clean)\n",
    "\n",
    "test_df = pd.read_csv(TEST_PATH)\n",
    "test_df = test_df[test_df['Sentiment'] != 'irrelevant']\n",
    "test_df['cleaned'] = test_df['TweetText'].apply(cleaner.clean)"
   ]
  },
  {
   "attachments": {},
   "cell_type": "markdown",
   "metadata": {},
   "source": [
    "## Results (Organizations)"
   ]
  },
  {
   "cell_type": "code",
   "execution_count": 4,
   "metadata": {
    "scrolled": true
   },
   "outputs": [
    {
     "name": "stdout",
     "output_type": "stream",
     "text": [
      "              precision    recall  f1-score   support\n",
      "\n",
      "       apple       0.83      0.90      0.87        93\n",
      "      google       0.76      0.65      0.70        48\n",
      "   microsoft       0.78      0.65      0.70        48\n",
      "     twitter       0.64      0.73      0.68        48\n",
      "\n",
      "    accuracy                           0.76       237\n",
      "   macro avg       0.75      0.73      0.74       237\n",
      "weighted avg       0.77      0.76      0.76       237\n",
      "\n"
     ]
    }
   ],
   "source": [
    "word_vectorizer = text.TfidfVectorizer(\n",
    "    analyzer='word', ngram_range=(1, 4),\n",
    "    min_df=2, use_idf=True, sublinear_tf=True)\n",
    "char_vectorizer = text.TfidfVectorizer(\n",
    "    analyzer='char', ngram_range=(3, 5),\n",
    "    min_df=2, use_idf=True, sublinear_tf=True)\n",
    "ngrams_vectorizer = Pipeline([\n",
    "    ('feats',\n",
    "     FeatureUnion([('word_ngram', word_vectorizer),\n",
    "                   ('char_ngram', char_vectorizer),\n",
    "                   ]))])\n",
    "\n",
    "train_feature = ngrams_vectorizer.fit_transform(train_df['cleaned'])\n",
    "test_feature = ngrams_vectorizer.transform(test_df['cleaned'])\n",
    "\n",
    "org_cls = LinearSVC()\n",
    "org_cls.fit(train_feature, train_df['Topic'])\n",
    "report = classification_report(test_df['Topic'], org_cls.predict(test_feature))\n",
    "print(report)"
   ]
  },
  {
   "cell_type": "markdown",
   "metadata": {},
   "source": [
    "## Results (Sentiment)"
   ]
  },
  {
   "cell_type": "code",
   "execution_count": 5,
   "metadata": {},
   "outputs": [
    {
     "name": "stdout",
     "output_type": "stream",
     "text": [
      "              precision    recall  f1-score   support\n",
      "\n",
      "    negative       0.73      0.49      0.59        49\n",
      "     neutral       0.81      0.92      0.86       156\n",
      "    positive       0.67      0.56      0.61        32\n",
      "\n",
      "    accuracy                           0.78       237\n",
      "   macro avg       0.74      0.66      0.69       237\n",
      "weighted avg       0.78      0.78      0.77       237\n",
      "\n"
     ]
    }
   ],
   "source": [
    "ORGANIZATION_TO_FEATURE = {'apple': 0.1, 'google': 0.2, 'microsoft': 0.3, 'twitter': 0.4}\n",
    "\n",
    "organizations = []\n",
    "for _, row in train_df.iterrows():\n",
    "    organizations.append(ORGANIZATION_TO_FEATURE[row['Topic']])\n",
    "train_feature = pd.DataFrame(train_feature.todense()).join(pd.DataFrame({'Topic': organizations}))\n",
    "\n",
    "organizations = []\n",
    "for _, row in test_df.iterrows():\n",
    "    organizations.append(ORGANIZATION_TO_FEATURE[row['Topic']])\n",
    "test_feature = pd.DataFrame(test_feature.todense()).join(pd.DataFrame({'Topic': organizations}))\n",
    "\n",
    "sent_cls = LinearSVC()\n",
    "sent_cls.fit(train_feature, train_df['Sentiment'])\n",
    "report = classification_report(test_df['Sentiment'], sent_cls.predict(test_feature))\n",
    "print(report)"
   ]
  },
  {
   "cell_type": "markdown",
   "metadata": {},
   "source": [
    "## Test it!"
   ]
  },
  {
   "cell_type": "code",
   "execution_count": 6,
   "metadata": {},
   "outputs": [
    {
     "name": "stdout",
     "output_type": "stream",
     "text": [
      "apple\n",
      "neutral\n"
     ]
    }
   ],
   "source": [
    "tweet = 'Apple is your choice'\n",
    "organization = 'apple'\n",
    "\n",
    "feature = ngrams_vectorizer.transform([cleaner.clean(tweet)])\n",
    "print(org_cls.predict(feature)[0])\n",
    "\n",
    "feature = pd.DataFrame(feature.todense()).join(pd.DataFrame({'Topic': [ORGANIZATION_TO_FEATURE[organization]]}))\n",
    "print(sent_cls.predict(feature)[0])"
   ]
  }
 ],
 "metadata": {
  "kernelspec": {
   "display_name": "Python 3",
   "language": "python",
   "name": "python3"
  },
  "language_info": {
   "codemirror_mode": {
    "name": "ipython",
    "version": 3
   },
   "file_extension": ".py",
   "mimetype": "text/x-python",
   "name": "python",
   "nbconvert_exporter": "python",
   "pygments_lexer": "ipython3",
   "version": "3.7.6"
  }
 },
 "nbformat": 4,
 "nbformat_minor": 2
}
